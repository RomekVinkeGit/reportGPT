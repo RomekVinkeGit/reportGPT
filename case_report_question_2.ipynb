{
 "cells": [
  {
   "cell_type": "markdown",
   "metadata": {},
   "source": [
    "# Question 2"
   ]
  },
  {
   "cell_type": "markdown",
   "metadata": {},
   "source": [
    "## 1. Index\n",
    "1. Index\n",
    "2. Problem definition\n",
    "3. Solution strategy\n",
    "4. Design choies\n",
    "5. Implementation approach\n",
    "6. Implementation\n",
    "7. Discussion"
   ]
  },
  {
   "cell_type": "markdown",
   "metadata": {},
   "source": [
    "## 2. Problem definition"
   ]
  },
  {
   "cell_type": "markdown",
   "metadata": {},
   "source": [
    "- Reshaped holds six discovery meetings weekly and prioritizes gaining a deep understanding of potential clients beforehand.  \n",
    "- A key part of this preparation involves reviewing annual reports,  \n",
    "  - A process that is often time-consuming due to their length and inconsistent formatting.  \n",
    "- To streamline this process, we aim to leverage a **Large Language Model (LLM)**.  \n",
    "- These annual reports contain tables:  \n",
    "  - These tables need to be **accurately extracted and formatted** using an LLM."
   ]
  },
  {
   "cell_type": "markdown",
   "metadata": {},
   "source": [
    "## 3. Solution Strategy"
   ]
  },
  {
   "cell_type": "markdown",
   "metadata": {},
   "source": [
    "- Python libraries exist that can **extract tables from PDFs**,  \n",
    "  - However, they may not preserve the original formatting.\n",
    "\n",
    "- Since table formats can vary between files, hardcoding the parsing process is not ideal.\n",
    "\n",
    "- **A flexible method** for parsing tables can be built using LLMs:  \n",
    "  1. Extract the table from the PDF using a designated library.  \n",
    "  2. Instruct the LLM to infer the format from the extracted text.  \n",
    "  3. Return an easy-to-manipulate text object, such as a CSV.\n"
   ]
  },
  {
   "cell_type": "markdown",
   "metadata": {},
   "source": [
    "![title](docs/img/flowchart_table_extraction.jpg)"
   ]
  },
  {
   "cell_type": "markdown",
   "metadata": {},
   "source": [
    "## 4. Design choices"
   ]
  },
  {
   "cell_type": "markdown",
   "metadata": {},
   "source": [
    "Every step in the process described above involves making key choices. I will go over the **main decisions and highlight alternatives**.\n",
    "\n",
    "**PS:**  \n",
    "- There's no strict need to use an LLM to format the table (as I will demonstrate in section 6).  \n",
    "  - The `Camelot` library **can extract all tables from the document** in their original format.  \n",
    "  - This approach is preferred due to its simplicity and its ability to process all tables in a document.  \n",
    "  - However, to stay aligned with the task, I will demonstrate using LLMs anyway.\n"
   ]
  },
  {
   "cell_type": "markdown",
   "metadata": {},
   "source": [
    "### 4.1 Text extraction"
   ]
  },
  {
   "cell_type": "markdown",
   "metadata": {},
   "source": [
    "- Many libraries can extract text from PDF files (e.g., `PyPDF2`, `Tika`, LangChain’s `PyPDFLoader`).\n",
    "\n",
    "- There are also libraries specifically **dedicated to extracting tables** from PDFs, such as:  \n",
    "  - `Camelot`  \n",
    "  - `Tabula`  \n",
    "  - `PDFPlumber`\n",
    "\n",
    "- Most libraries are not capable of reading the full contents of a table:  \n",
    "  - For example, `PDFPlumber` considers only grey-highlighted rows.\n",
    "\n",
    "- Worked with `PyMuPDF` to read the table as text and format it later.\n",
    "\n",
    "<br></br>\n",
    "\n",
    "- Alternatively, one could read every page of the PDF as an image and process it using **OCR**\n",
    "- OCR-based formatting is flexible because it allows extraction of all tables without hardcoding their location:  \n",
    "  - However, OCR is more expensive.  \n",
    "  - `GPT-3.5 Turbo` is not capable of OCR.\n",
    "\n",
    "- Opt for \"regular\" text formatting.\n"
   ]
  },
  {
   "cell_type": "markdown",
   "metadata": {},
   "source": [
    "### 4.2 LLM Formatting"
   ]
  },
  {
   "cell_type": "markdown",
   "metadata": {},
   "source": [
    "- Obtain the contents of the table in text format:  \n",
    "  - For flexibility, use an **LLM to handle formatting**.\n",
    "\n",
    "- Provide LLM instructions on how to process the extracted table text:  \n",
    "  - Format of input  \n",
    "  - Processing steps  \n",
    "  - Desired output\n",
    "\n",
    "- To ensure we stick to facts, set `temperature = 0`.\n"
   ]
  },
  {
   "cell_type": "markdown",
   "metadata": {},
   "source": [
    "![title](docs/img/q2_system_prompt.PNG)"
   ]
  },
  {
   "cell_type": "markdown",
   "metadata": {},
   "source": [
    "### 4.3 DataFrame conversion\n",
    "- LLM returns semicolon separated text\n",
    "    - In order to preserve comma's in table\n",
    "\n",
    "- Simple `pd.read_csv()` call sufficient to return a Pandas DataFrame"
   ]
  },
  {
   "cell_type": "markdown",
   "metadata": {},
   "source": [
    "### 4.4 design overview\n",
    "- Text loading = `PyMuPDF`\n",
    "- Text processing = `GPT 3.5 Turbo`, `temperature = 0`\n",
    "- Dataframe = `pd.read_csv()`"
   ]
  },
  {
   "cell_type": "markdown",
   "metadata": {},
   "source": [
    "## 5 Implementation approach\n",
    "- Developed implementation of design above by:\n",
    "    - Iteratively exploring design choices using ChatGPT\n",
    "    - Experimenting with design choices using code snippets implemented by Cursor\n",
    "    - Implementing folder structure, `utils.py`, and `README` with Cursor"
   ]
  },
  {
   "cell_type": "markdown",
   "metadata": {},
   "source": [
    "## 6 Implementation"
   ]
  },
  {
   "cell_type": "markdown",
   "metadata": {},
   "source": [
    "### 6.1 Setting up the environment"
   ]
  },
  {
   "cell_type": "code",
   "execution_count": null,
   "metadata": {},
   "outputs": [],
   "source": [
    "#Import libraries\n",
    "import importlib\n",
    "import os\n",
    "import utils\n",
    "from dotenv import load_dotenv\n",
    "\n",
    "# Reload utils to ensure changes in functions carry over\n",
    "importlib.reload(utils)\n",
    "\n",
    "# Load environment variables\n",
    "load_dotenv()\n",
    "\n",
    "# Specify document location\n",
    "PDF_PATH = r\"Microsoft_2023_Trimmed.pdf\""
   ]
  },
  {
   "cell_type": "markdown",
   "metadata": {},
   "source": [
    "### 6.2 Extract table text from PDF"
   ]
  },
  {
   "cell_type": "code",
   "execution_count": null,
   "metadata": {},
   "outputs": [],
   "source": [
    "# Extract table text from PDF\n",
    "table_text = utils.extract_last_page_text(PDF_PATH)"
   ]
  },
  {
   "cell_type": "markdown",
   "metadata": {},
   "source": [
    "### 6.3 Format text with LLM"
   ]
  },
  {
   "cell_type": "code",
   "execution_count": null,
   "metadata": {},
   "outputs": [],
   "source": [
    "# Format text\n",
    "df = utils.extract_tables_with_llm(table_text)"
   ]
  },
  {
   "cell_type": "markdown",
   "metadata": {},
   "source": [
    "### 6.4 Inspect result"
   ]
  },
  {
   "cell_type": "code",
   "execution_count": null,
   "metadata": {},
   "outputs": [],
   "source": [
    "print(df)"
   ]
  },
  {
   "cell_type": "markdown",
   "metadata": {},
   "source": [
    "### 6.5 Extract table without LLM"
   ]
  },
  {
   "cell_type": "code",
   "execution_count": null,
   "metadata": {},
   "outputs": [],
   "source": [
    "# # Extract tables\n",
    "# pdf_tables = utils.extract_tables_with_camelot(pdf_path = PDF_PATH)\n",
    "\n",
    "# # Print table on last page\n",
    "# print(pdf_tables[-1])"
   ]
  },
  {
   "cell_type": "markdown",
   "metadata": {},
   "source": [
    "## 7. Discussion"
   ]
  }
 ],
 "metadata": {
  "kernelspec": {
   "display_name": "venv old specs",
   "language": "python",
   "name": "venv_test"
  },
  "language_info": {
   "codemirror_mode": {
    "name": "ipython",
    "version": 3
   },
   "file_extension": ".py",
   "mimetype": "text/x-python",
   "name": "python",
   "nbconvert_exporter": "python",
   "pygments_lexer": "ipython3",
   "version": "3.11.6"
  }
 },
 "nbformat": 4,
 "nbformat_minor": 2
}
