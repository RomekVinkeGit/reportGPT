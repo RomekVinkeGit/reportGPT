{
 "cells": [
  {
   "cell_type": "markdown",
   "metadata": {},
   "source": [
    "## Setting up the environment"
   ]
  },
  {
   "cell_type": "code",
   "execution_count": null,
   "metadata": {},
   "outputs": [
    {
     "name": "stdout",
     "output_type": "stream",
     "text": [
      "API Type: None\n",
      "API Version: None\n",
      "Endpoint URL: None\n"
     ]
    }
   ],
   "source": [
    "import os\n",
    "from dotenv import load_dotenv\n",
    "\n",
    "# Load the environment variables from the .env file\n",
    "load_dotenv()\n",
    "\n",
    "# Access the environment variables\n",
    "OPENAI_API_VERSION = os.getenv(\"OPENAI_API_VERSION\")\n",
    "AZURE_OPENAI_ENDPOINT = os.getenv(\"AZURE_OPENAI_ENDPOINT\")\n",
    "AZURE_OPENAI_API_KEY = os.getenv(\"AZURE_OPENAI_API_KEY\")\n",
    "\n",
    "# Example usage of the loaded environment variables\n",
    "print(\"API Version:\", OPENAI_API_VERSION)\n",
    "print(\"Endpoint URL:\", AZURE_OPENAI_ENDPOINT)\n",
    "print(\"API Key:\", AZURE_OPENAI_API_KEY)\n",

    "# Avoid printing sensitive information like API keys.\n"
   ]
  },
  {
   "cell_type": "markdown",
   "metadata": {},
   "source": [
    "## Chatbot: Azure OpenAI\n",
    "\n",
    "The following block of code allows you to make a connection with the Azure OpenAI API. We are curious on the way you will solve the case. Good luck!"
   ]
  },
  {
   "cell_type": "code",
   "execution_count": 25,
   "metadata": {},
   "outputs": [],
   "source": [
    "import os\n",
    "from openai import AzureOpenAI\n",
    "\n",
    "# Setting up the Azure OpenAI client with required credentials and endpoint\n",
    "client = AzureOpenAI(\n",
    "    azure_endpoint=AZURE_OPENAI_ENDPOINT,\n",
    "    api_key=AZURE_OPENAI_API_KEY,\n",
    "    api_version=OPENAI_API_VERSION\n",
    ")\n",
    "\n",
    "# Define a prompt for the OpenAI Chat API\n",
    "prompt = \"\"\"\n",
    "Define Generative AI\n",
    "\"\"\"\n",
    "\n",
    "# Set a system and user message\n",
    "messages=[\n",
    "        {\"role\": \"system\", \"content\": \"You are a helpful assistant.\"},\n",
    "        {\"role\": \"user\", \"content\": prompt}\n",
    "]\n",
    "\n",
    "# Request a completion from the OpenAI Chat API using the client\n",
    "completion = client.chat.completions.create(\n",
    "    model=\"gpt35PotentialHires\", \n",
    "    messages=messages,\n",
    "    temperature=0.7,\n",
    "    max_tokens=800,\n",
    "    top_p=0.95,\n",
    "    frequency_penalty=0,\n",
    "    presence_penalty=0,\n",
    "    stop=None\n",
    ")\n",
    "\n",
    "# Print the response\n",
    "print(completion.choices[0].message.content)"
   ]
  }
 ],
 "metadata": {
  "kernelspec": {
   "display_name": "Python 3",
   "language": "python",
   "name": "python3"
  },
  "language_info": {
   "codemirror_mode": {
    "name": "ipython",
    "version": 3
   },
   "file_extension": ".py",
   "mimetype": "text/x-python",
   "name": "python",
   "nbconvert_exporter": "python",
   "pygments_lexer": "ipython3",
   "version": "3.12.1"
  }
 },
 "nbformat": 4,
 "nbformat_minor": 2
}
